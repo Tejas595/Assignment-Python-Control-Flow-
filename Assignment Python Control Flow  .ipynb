{
 "cells": [
  {
   "cell_type": "markdown",
   "id": "861e1c06-bfa6-4704-b2e7-5f8f728de7bc",
   "metadata": {},
   "source": [
    "Control Flow Assignment"
   ]
  },
  {
   "cell_type": "markdown",
   "id": "262b5f8b-0334-4749-8acf-803510614691",
   "metadata": {},
   "source": [
    "Basic If-Else Statements:"
   ]
  },
  {
   "cell_type": "code",
   "execution_count": 2,
   "id": "61146934-4a29-482c-a195-a16920fbdaa7",
   "metadata": {},
   "outputs": [
    {
     "name": "stdin",
     "output_type": "stream",
     "text": [
      "enter a number  -10\n"
     ]
    },
    {
     "name": "stdout",
     "output_type": "stream",
     "text": [
      "number is negative\n"
     ]
    }
   ],
   "source": [
    "# 1. Write a Python program to check if a given number is positive or negative.\n",
    "def posi_negative():\n",
    "    number=int(input(\"enter a number \"))\n",
    "    if number>=0:\n",
    "        print(\"number is positive\")\n",
    "    else:\n",
    "        print(\"number is negative\")\n",
    "posi_negative()"
   ]
  },
  {
   "cell_type": "code",
   "execution_count": 3,
   "id": "62966b84-0035-4c8e-aeea-3c81b4a093c7",
   "metadata": {},
   "outputs": [
    {
     "name": "stdin",
     "output_type": "stream",
     "text": [
      "enter a age  21\n"
     ]
    },
    {
     "name": "stdout",
     "output_type": "stream",
     "text": [
      "the person is eligible for voting\n"
     ]
    }
   ],
   "source": [
    "# 2. Create a program that determines if a person is eligible to vote based on their age.\n",
    "def check_eligible():\n",
    "    age=int(input(\"enter a age \"))\n",
    "    if age>=18:\n",
    "        print(\"the person is eligible for voting\")\n",
    "    else:\n",
    "        print(\"the person is not eligible for voting\")\n",
    "check_eligible()"
   ]
  },
  {
   "cell_type": "code",
   "execution_count": 4,
   "id": "1e140fa8-0985-4fd6-a564-748acd063db7",
   "metadata": {},
   "outputs": [
    {
     "name": "stdout",
     "output_type": "stream",
     "text": [
      "maximum number => 100\n",
      "maximum number => 25\n"
     ]
    }
   ],
   "source": [
    "# 3. Develop a program to find the maximum of two numbers using if-else statements\n",
    "def check_max(num1,num2):\n",
    "    if num1>num2:\n",
    "       print(\"maximum number =>\",num1)\n",
    "    else:\n",
    "        print(\"maximum number =>\",num2)\n",
    "check_max(25,100)\n",
    "check_max(25,10.50)\n",
    "    "
   ]
  },
  {
   "cell_type": "code",
   "execution_count": 5,
   "id": "a9720d2d-1834-49ce-9709-8e75b1517fd2",
   "metadata": {},
   "outputs": [
    {
     "name": "stdout",
     "output_type": "stream",
     "text": [
      "leap year\n",
      "common year\n"
     ]
    }
   ],
   "source": [
    "# 4. Write a Python script to classify a given year as a leap year or not.\n",
    "def check_leapyear(year):\n",
    "    if (year % 4 == 0 and year % 100 != 0) or (year % 400 == 0):\n",
    "        print(\"leap year\")\n",
    "    else:\n",
    "        print(\"common year\")\n",
    "check_leapyear(2000)\n",
    "check_leapyear(2001)"
   ]
  },
  {
   "cell_type": "code",
   "execution_count": 6,
   "id": "f2aded24-42d6-4b46-9fa9-68ac9cc1ac7e",
   "metadata": {},
   "outputs": [
    {
     "name": "stdin",
     "output_type": "stream",
     "text": [
      "enter a character  o\n"
     ]
    },
    {
     "name": "stdout",
     "output_type": "stream",
     "text": [
      "character is vowel\n"
     ]
    }
   ],
   "source": [
    "# 5. Create a program that checks whether a character is a vowel or a consonant.\n",
    "def vowel_consonant():\n",
    "    x=input(\"enter a character \")\n",
    "    character=x.lower()\n",
    "    if character in\"aeiou\":\n",
    "        print(\"character is vowel\")\n",
    "    else:\n",
    "        print(\"character is consonant\")\n",
    "vowel_consonant()"
   ]
  },
  {
   "cell_type": "code",
   "execution_count": 7,
   "id": "68bdadeb-18a8-4ebf-8845-53f5e6445161",
   "metadata": {},
   "outputs": [
    {
     "name": "stdout",
     "output_type": "stream",
     "text": [
      "number is even\n",
      "number is odd\n"
     ]
    }
   ],
   "source": [
    "# 6. Implement a program to determine whether a given number is even or odd.\n",
    "def check_even_odd(number:int):\n",
    "    if number%2==0:\n",
    "        print(\"number is even\")\n",
    "    else:\n",
    "        print(\"number is odd\")\n",
    "check_even_odd(22)\n",
    "check_even_odd(21)\n",
    "    "
   ]
  },
  {
   "cell_type": "code",
   "execution_count": 8,
   "id": "08b21e4c-1731-4906-8f8d-0542a757cd85",
   "metadata": {},
   "outputs": [
    {
     "name": "stdout",
     "output_type": "stream",
     "text": [
      "5\n",
      "5\n"
     ]
    }
   ],
   "source": [
    "# 7. Write a Python function to calculate the absolute value of a number without using the `abs()` function.\n",
    "def absolute(num):\n",
    "    if num>0:\n",
    "        print(num)\n",
    "    else:\n",
    "        print(-num)\n",
    "absolute(-5)\n",
    "absolute(5)"
   ]
  },
  {
   "cell_type": "code",
   "execution_count": 9,
   "id": "07fc0208-b0fd-4352-b019-91e69dce180c",
   "metadata": {},
   "outputs": [
    {
     "name": "stdout",
     "output_type": "stream",
     "text": [
      "largest number is  30\n",
      "largest number is 20\n"
     ]
    }
   ],
   "source": [
    "# 8. Develop a program that determines the largest of three given numbers using if-else statements.\n",
    "def largest (num1,num2,num3):\n",
    "    if num1>=num2 and num1>=num3:\n",
    "        print(\"largest number is\",num1)\n",
    "    elif num2>=num1 and num2>=num3:\n",
    "        print(\"largest number is\",num2) \n",
    "    else:\n",
    "        print(\"largest number is \",num3)\n",
    "largest(10,20,30)\n",
    "largest(10,20,20)"
   ]
  },
  {
   "cell_type": "code",
   "execution_count": null,
   "id": "0c689c09-fa00-4956-9e1e-866ad38aacdc",
   "metadata": {},
   "outputs": [
    {
     "name": "stdin",
     "output_type": "stream",
     "text": [
      "enter a string  radar\n"
     ]
    }
   ],
   "source": [
    "# 9. Create a program that checks if a given string is a palindrome.\n",
    "def palindrome():\n",
    "    string=input(\"enter a string \")\n",
    "    if string==string[::-1]:\n",
    "        print(\"string is palindrome\")\n",
    "    else:\n",
    "        print(\"string is not palindrome\")\n",
    "palindrome()"
   ]
  },
  {
   "cell_type": "code",
   "execution_count": 1,
   "id": "e2e088cf-ba34-45ef-a162-6f73b6792a45",
   "metadata": {},
   "outputs": [
    {
     "name": "stdout",
     "output_type": "stream",
     "text": [
      "grade-A\n",
      "grade-Fail\n",
      "grade-B\n",
      "grade-C\n"
     ]
    }
   ],
   "source": [
    "# 10. Write a Python program to calculate the grade based on a student's score.\n",
    "def check_grade(score):\n",
    "    if score>=90:\n",
    "        print(\"grade-A\")\n",
    "    elif score>=80:\n",
    "        print(\"grade-B\")    \n",
    "    elif score>=65:\n",
    "        print(\"grade-C\")    \n",
    "    elif score>=50:\n",
    "        print(\"grade-D\")\n",
    "    else:\n",
    "        print(\"grade-Fail\")\n",
    "check_grade(92)\n",
    "check_grade(42)\n",
    "check_grade(85)\n",
    "check_grade(70)"
   ]
  },
  {
   "cell_type": "code",
   "execution_count": null,
   "id": "478fcf5d-393a-4229-a504-d7679cd022a0",
   "metadata": {},
   "outputs": [],
   "source": []
  },
  {
   "cell_type": "markdown",
   "id": "311e05af-1fef-4b42-98b9-740dc4812767",
   "metadata": {},
   "source": [
    " Nested If-Else Statements:"
   ]
  },
  {
   "cell_type": "code",
   "execution_count": 2,
   "id": "860f59aa-8bad-48a1-a863-df358027dc73",
   "metadata": {},
   "outputs": [
    {
     "name": "stdout",
     "output_type": "stream",
     "text": [
      "largest number is 30\n",
      "largest number is 2000\n"
     ]
    }
   ],
   "source": [
    "# 11. Write a program to find the largest among three numbers using nested if-else statements. \n",
    "def checking_largest(number1,number2,number3):\n",
    "    if number1>=number2 :\n",
    "        if number1>number3:\n",
    "            print(\"largest number is\",number1)\n",
    "        else:\n",
    "            print(\"largest number is\",number3)\n",
    "    else:\n",
    "        if number2>=number3:\n",
    "            print(\"largest number is \",number2)\n",
    "        else:\n",
    "            print(\"largest number is\",number3)\n",
    "checking_largest(10,20,30)\n",
    "checking_largest(1000,500,2000)"
   ]
  },
  {
   "cell_type": "code",
   "execution_count": 3,
   "id": "7ffa6a60-4a79-4835-b77a-6896ca03e651",
   "metadata": {},
   "outputs": [
    {
     "name": "stdout",
     "output_type": "stream",
     "text": [
      "equilateral traingle\n",
      "isoscles  traingle\n",
      "isosceles traingle\n",
      "isosceles traingle\n",
      "scalene trainlgle\n"
     ]
    }
   ],
   "source": [
    "#  12. Implement a program to determine if a triangle is equilateral, isosceles, or scalene.\n",
    "def traingle(side1,side2,side3):\n",
    "    if side1==side2:\n",
    "        if side1==side3:\n",
    "            print(\"equilateral traingle\")\n",
    "        else:\n",
    "            print(\"isoscles  traingle\")\n",
    "            \n",
    "    else:\n",
    "        if side2==side3:\n",
    "            print(\"isosceles traingle\")\n",
    "        elif side1==side3:\n",
    "            print(\"isosceles traingle\")\n",
    "        else:\n",
    "            print(\"scalene trainlgle\")\n",
    "traingle(30,30,30)\n",
    "traingle(10,10,20)\n",
    "traingle(40,30,30)\n",
    "traingle(40,30,40)\n",
    "traingle(10,20,30)"
   ]
  },
  {
   "cell_type": "code",
   "execution_count": 4,
   "id": "35f91d28-ff27-4fc6-bcdd-835acdf26eb2",
   "metadata": {},
   "outputs": [
    {
     "name": "stdout",
     "output_type": "stream",
     "text": [
      "Leap year and century year\n",
      "Leap year but not a century year\n",
      "Neither a leap year nor a century year\n",
      "Century year but not a leap year\n"
     ]
    }
   ],
   "source": [
    "# 13. Develop a program that checks if a year is a leap year and also if it is a century year.\n",
    "def check_year(year):\n",
    "    if year % 4 == 0:\n",
    "        if year % 100 == 0:\n",
    "            if year % 400 == 0:\n",
    "                 print(\"Leap year and century year\")\n",
    "            else:\n",
    "                print(\"Century year but not a leap year\")\n",
    "        else:\n",
    "             print(\"Leap year but not a century year\")\n",
    "    else:\n",
    "          print(\"Neither a leap year nor a century year\")\n",
    "\n",
    "check_year(2000) \n",
    "check_year(2004)\n",
    "check_year(2005)\n",
    "check_year(1900)"
   ]
  },
  {
   "cell_type": "code",
   "execution_count": 5,
   "id": "3152384a-0c7b-4830-9740-2f1d4cf44eeb",
   "metadata": {},
   "outputs": [
    {
     "name": "stdout",
     "output_type": "stream",
     "text": [
      "positive\n",
      "negative \n",
      "zero\n"
     ]
    }
   ],
   "source": [
    "#  14. Write a Python script to determine if a number is positive, negative, or zero.\n",
    "def checkin_num(num):\n",
    "    if num>=0:\n",
    "        if num ==0:\n",
    "            print(\"zero\")\n",
    "        else:\n",
    "            print(\"positive\")\n",
    "    else:\n",
    "        print(\"negative \")\n",
    "checkin_num(1)\n",
    "checkin_num(-1)\n",
    "checkin_num(0)"
   ]
  },
  {
   "cell_type": "code",
   "execution_count": 6,
   "id": "51d372b2-299a-4675-99cc-89ea424e6834",
   "metadata": {},
   "outputs": [
    {
     "name": "stdout",
     "output_type": "stream",
     "text": [
      "teenager\n",
      "teenager\n",
      "not an teenager\n",
      "not an teenager\n"
     ]
    }
   ],
   "source": [
    "# 15. Create a program to check if a person is a teenager (between 13 and 19 years old).\n",
    "def check_teenager(age):\n",
    "    if 13<=age<=19:\n",
    "        print(\"teenager\")\n",
    "    else:\n",
    "        print(\"not an teenager\")\n",
    "check_teenager(13)\n",
    "check_teenager(18)\n",
    "check_teenager(12)\n",
    "check_teenager(20)"
   ]
  },
  {
   "cell_type": "code",
   "execution_count": 7,
   "id": "15cca343-f749-4be8-92b3-ce1233016be4",
   "metadata": {},
   "outputs": [
    {
     "name": "stdout",
     "output_type": "stream",
     "text": [
      "right angle\n",
      "obtuse angle\n",
      "acute angle\n",
      "not an acute, obtuse,or right angle\n"
     ]
    }
   ],
   "source": [
    "#  16. Develop a program that determines the type of angle based on its measure (acute, obtuse, or right).\n",
    "def check_angle(degree):\n",
    "    if 0<degree<180:\n",
    "        if degree>=90:\n",
    "            if degree==90:\n",
    "                print(\"right angle\")\n",
    "            else:\n",
    "                print(\"obtuse angle\")\n",
    "        else:\n",
    "            print(\"acute angle\")\n",
    "    else:\n",
    "        print(\"not an acute, obtuse,or right angle\")\n",
    "check_angle(90)\n",
    "check_angle(120)\n",
    "check_angle(55)\n",
    "check_angle(189)"
   ]
  },
  {
   "cell_type": "code",
   "execution_count": 8,
   "id": "735fe60d-6b50-4f22-9c3e-9fdd54866b0b",
   "metadata": {},
   "outputs": [
    {
     "name": "stdout",
     "output_type": "stream",
     "text": [
      "real and different roots\n",
      "2.0\n",
      "-12.0\n"
     ]
    }
   ],
   "source": [
    "#  17. Write a Python program to calculate the roots of a quadratic equation.\n",
    "import math\n",
    "def roots(a,b,c):\n",
    "    ds_value=b*b -4*a*c\n",
    "    square_rootvalue=math.sqrt(abs(ds_value))\n",
    "    if ds_value > 0: \n",
    "        print(\"real and different roots\") \n",
    "        print((-b + square_rootvalue)/(2 * a)) \n",
    "        print((-b - square_rootvalue)/(2 * a)) \n",
    "    elif ds_value == 0: \n",
    "        print(\"real and same roots\") \n",
    "        print(-b / (2 * a)) \n",
    "    else:\n",
    "        print(\"Complex Roots\") \n",
    "        print(- b / (2 * a),  square_rootvalue) \n",
    "        print(- b / (2 * a), square_rootvalue) \n",
    "a=1\n",
    "b=10\n",
    "c=-24\n",
    "roots(a,b,c)"
   ]
  },
  {
   "cell_type": "code",
   "execution_count": 11,
   "id": "ad2919ff-0be1-4701-8c1c-6387a779ed89",
   "metadata": {},
   "outputs": [
    {
     "name": "stdin",
     "output_type": "stream",
     "text": [
      "enter the number  6\n"
     ]
    },
    {
     "name": "stdout",
     "output_type": "stream",
     "text": [
      "saturday\n"
     ]
    }
   ],
   "source": [
    "#  18. Implement a program to determine the day of the week based on a user-provided number (1 for Monday, 2 for Tuesday, etc.).\n",
    "def check_day(day):\n",
    "    if 0<day<8:\n",
    "        if day==1:\n",
    "            print(\"monday\")\n",
    "        elif day==2:\n",
    "            print(\"tuesday\")\n",
    "        elif day==3:\n",
    "            print(\"wednesday\")\n",
    "        elif day==4:\n",
    "            print(\"thursday\")\n",
    "        elif day==5:\n",
    "            print(\"friday\")\n",
    "        elif day==6:\n",
    "            print(\"saturday\")\n",
    "        else:\n",
    "            print(\"sunday\")\n",
    "    else:\n",
    "        print(\"invalid number\")\n",
    "\n",
    "day=int(input(\"enter the number \"))\n",
    "check_day(day)\n",
    " "
   ]
  },
  {
   "cell_type": "code",
   "execution_count": 12,
   "id": "97352da2-2653-43a0-949f-c59c7616b260",
   "metadata": {},
   "outputs": [
    {
     "name": "stdout",
     "output_type": "stream",
     "text": [
      "leap year and divisible by 400\n",
      "leap year but not divisible by 400\n",
      "leap year but not divisible by 400\n",
      "leap year and divisible by 400\n",
      "leap year but not divisible by 400\n"
     ]
    }
   ],
   "source": [
    "#  19. Create a program that determines if a year is a leap year and also if it is evenly divisible by 400.\n",
    "def checking_year(year):\n",
    "    if year%4==0: \n",
    "        if year%100==0 :\n",
    "                if year%400==0:\n",
    "                     print(\"leap year and divisible by 400\")\n",
    "                else:\n",
    "                     print(\"leap year but not divisible by 400\")\n",
    "\n",
    "        else:\n",
    "            print(\"leap year but not divisible by 400\")\n",
    "    else:\n",
    "        print(\"neither a leap year and not divisible by 400 \")\n",
    "\n",
    "checking_year(2000)\n",
    "checking_year(1996)\n",
    "checking_year(2024)\n",
    "checking_year(2800)\n",
    "checking_year(1900)"
   ]
  },
  {
   "cell_type": "code",
   "execution_count": 13,
   "id": "df89a4aa-4453-4693-88b3-29d6ccf2194d",
   "metadata": {},
   "outputs": [
    {
     "name": "stdout",
     "output_type": "stream",
     "text": [
      "11 is a prime number.\n"
     ]
    }
   ],
   "source": [
    "# 20. Develop a program that checks if a given number is prime or not using nested if-else statements.\n",
    "\n",
    "def is_prime(number):\n",
    "    if number > 1:\n",
    "        if number == 2:\n",
    "            return True\n",
    "        else:\n",
    "            for i in range(2, int(number**0.5) + 1):\n",
    "                if number % i == 0:\n",
    "                    return False\n",
    "            return True\n",
    "    else:\n",
    "        return False\n",
    "    \n",
    "num = 11 \n",
    "if is_prime(num):\n",
    "    print(f\"{num} is a prime number.\")\n",
    "else:\n",
    "    print(f\"{num} is not a prime number.\")"
   ]
  },
  {
   "cell_type": "code",
   "execution_count": null,
   "id": "f73009e1-c7a3-41f9-9998-1daf90605d49",
   "metadata": {},
   "outputs": [],
   "source": []
  },
  {
   "cell_type": "markdown",
   "id": "e4f06044-047f-4601-9d15-e30bec2252d9",
   "metadata": {},
   "source": [
    " Elif Statements:"
   ]
  },
  {
   "cell_type": "code",
   "execution_count": 14,
   "id": "7f21f4f5-b117-47f4-b46d-fb7bed6479b3",
   "metadata": {},
   "outputs": [
    {
     "name": "stdout",
     "output_type": "stream",
     "text": [
      "Grade: D\n",
      "Grade: C\n"
     ]
    }
   ],
   "source": [
    "# 21. Write a Python program to assign grades based on different ranges of scores using elif statements.\n",
    "def assign_grade(score):\n",
    "    if score >= 90:\n",
    "        return 'A'\n",
    "    elif score >= 80:\n",
    "        return 'B'\n",
    "    elif score >= 70:\n",
    "        return 'C'\n",
    "    elif score >= 60:\n",
    "        return 'D'\n",
    "    else:\n",
    "        return 'Fail'\n",
    "\n",
    "print(f\"Grade: {assign_grade(68)}\")\n",
    "print(f\"Grade: {assign_grade(75)}\")"
   ]
  },
  {
   "cell_type": "code",
   "execution_count": 15,
   "id": "ee857653-bcc9-44c2-8511-5a6a72b7bf5d",
   "metadata": {},
   "outputs": [
    {
     "name": "stdout",
     "output_type": "stream",
     "text": [
      "Acute Triangle\n",
      "Right Triangle\n",
      "Obtuse Triangle\n"
     ]
    }
   ],
   "source": [
    "# 22. Implement a program to determine the type of a triangle based on its angles.\n",
    "\n",
    "def triangle_type(angle1, angle2, angle3):\n",
    "    if angle1 + angle2 + angle3 == 180:\n",
    "        if angle1 == 90 or angle2 == 90 or angle3 == 90:\n",
    "            return \"Right Triangle\"\n",
    "        elif angle1 > 90 or angle2 > 90 or angle3 > 90:\n",
    "            return \"Obtuse Triangle\"\n",
    "        else:\n",
    "            return \"Acute Triangle\"\n",
    "    else:\n",
    "        return \"Not a Triangle\"\n",
    "    \n",
    "print(triangle_type(60, 60, 60))\n",
    "print(triangle_type(30, 60, 90))\n",
    "print(triangle_type(30, 30, 120))"
   ]
  },
  {
   "cell_type": "code",
   "execution_count": 16,
   "id": "5d2b420e-183d-4209-ac19-c9f475298801",
   "metadata": {},
   "outputs": [
    {
     "name": "stdout",
     "output_type": "stream",
     "text": [
      "BMI Category: Normal weight\n",
      "BMI Category: Overweight\n",
      "BMI Category: Obese\n"
     ]
    }
   ],
   "source": [
    "# 23. Develop a program to categorize a given person's BMI into underweight, normal, overweight, or obese using elif statements.\n",
    "\n",
    "def categorize_bmi(bmi):\n",
    "    if bmi < 18.5:\n",
    "        return \"Underweight\"\n",
    "    elif bmi < 24.9:\n",
    "        return \"Normal weight\"\n",
    "    elif bmi < 29.9:\n",
    "        return \"Overweight\"\n",
    "    else:\n",
    "        return \"Obese\"\n",
    "    \n",
    "print(f\"BMI Category: {categorize_bmi(22)}\")\n",
    "print(f\"BMI Category: {categorize_bmi(25)}\")\n",
    "print(f\"BMI Category: {categorize_bmi(30.1)}\")"
   ]
  },
  {
   "cell_type": "code",
   "execution_count": 17,
   "id": "d5680f5b-30e6-4a84-bfca-860c1f85075c",
   "metadata": {},
   "outputs": [
    {
     "name": "stdout",
     "output_type": "stream",
     "text": [
      "number is positive\n",
      "number is negative\n",
      "number is zero\n"
     ]
    }
   ],
   "source": [
    "# 24. Create a program that determines whether a given number is positive, negative, or zero using elif statements.\n",
    "\n",
    "def checking_num_category(num):\n",
    "    if num ==0:\n",
    "          print(\"number is zero\")\n",
    "    elif num > 0:\n",
    "            print(\"number is positive\")\n",
    "    else:\n",
    "        print(\"number is negative\")\n",
    "\n",
    "checking_num_category(2)\n",
    "checking_num_category(-1)\n",
    "checking_num_category(0)"
   ]
  },
  {
   "cell_type": "code",
   "execution_count": 18,
   "id": "5dc8dd17-71ed-4366-a62a-dc961b6108ae",
   "metadata": {},
   "outputs": [
    {
     "name": "stdout",
     "output_type": "stream",
     "text": [
      "character is Uppercase\n",
      "character is Lowercase\n",
      "character is Special Character\n"
     ]
    }
   ],
   "source": [
    "# 25. Write a Python script to determine the type of a character (uppercase, lowercase, or special) using elif statements.\n",
    "\n",
    "def character_type(char):\n",
    "    if char.isupper():\n",
    "        return \"character is Uppercase\"\n",
    "    elif char.islower():\n",
    "        return \"character is Lowercase\"\n",
    "    else:\n",
    "        return \"character is Special Character\"\n",
    "print(character_type(\"A\"))\n",
    "print(character_type(\"a\"))\n",
    "print(character_type(\"@\"))"
   ]
  },
  {
   "cell_type": "code",
   "execution_count": 19,
   "id": "01ac67e3-dcd5-4cb2-8ff8-12e0d8df59cb",
   "metadata": {},
   "outputs": [
    {
     "name": "stdout",
     "output_type": "stream",
     "text": [
      "Discounted Price: 900.0\n",
      "Discounted Price: 760.0\n",
      "Discounted Price: 39.2\n",
      "Discounted Price: 392.0\n"
     ]
    }
   ],
   "source": [
    "# 26. Implement a program to calculate the discounted price based on different purchase amounts using elif statements.\n",
    "\n",
    "def calculate_discount(price):\n",
    "    if price >= 1000:\n",
    "        discount = 0.10\n",
    "    elif price >= 500:\n",
    "        discount = 0.05\n",
    "    else:\n",
    "        discount = 0.02\n",
    "\n",
    "    discounted_price = price * (1 - discount)\n",
    "    return discounted_price\n",
    "\n",
    "print(f\"Discounted Price: {calculate_discount(1000)}\")\n",
    "print(f\"Discounted Price: {calculate_discount(800)}\")\n",
    "print(f\"Discounted Price: {calculate_discount(40)}\")\n",
    "print(f\"Discounted Price: {calculate_discount(400)}\")"
   ]
  },
  {
   "cell_type": "code",
   "execution_count": 21,
   "id": "af8219d4-e267-41e9-ad44-f54e7ce82e8e",
   "metadata": {},
   "outputs": [
    {
     "name": "stdout",
     "output_type": "stream",
     "text": [
      "Electricity Bill: 1890.0 Rs\n",
      "Electricity Bill: 242.0 Rs\n",
      "Electricity Bill: 757.5 Rs\n",
      "Electricity Bill: 74.25 Rs\n"
     ]
    }
   ],
   "source": [
    "# 27. Develop a program to calculate the electricity bill based on different consumption slabs using elif  statements.\n",
    "\n",
    "def calculate_electricity_bill(units):\n",
    "    if units <= 100:\n",
    "        rate = 1.50\n",
    "    elif units <= 300:\n",
    "        rate = 2.00\n",
    "    elif units <= 500:\n",
    "        rate = 2.50\n",
    "    else:\n",
    "        rate = 3.00\n",
    "\n",
    "    bill = units * rate\n",
    "    return bill\n",
    "\n",
    "print(f\"Electricity Bill: {calculate_electricity_bill(630)}\",\"Rs\")\n",
    "print(f\"Electricity Bill: {calculate_electricity_bill(121)}\",\"Rs\")\n",
    "print(f\"Electricity Bill: {calculate_electricity_bill(303)}\",\"Rs\")\n",
    "print(f\"Electricity Bill: {calculate_electricity_bill(49.5)}\" ,\"Rs\")"
   ]
  },
  {
   "cell_type": "code",
   "execution_count": 22,
   "id": "dda4e696-88da-473c-882a-8447f69b070e",
   "metadata": {},
   "outputs": [
    {
     "name": "stdout",
     "output_type": "stream",
     "text": [
      "Quadrilateral Type: Square\n"
     ]
    }
   ],
   "source": [
    "# 28. Create a program to determine the type of quadrilateral based on its angles and sides using elif statements.\n",
    "def quadrilateral_type(sides, angles):\n",
    "\n",
    "    if sides.count(sides[0]) == 4:\n",
    "        if angles.count(90) == 4:\n",
    "            return \"Square\"\n",
    "        else:\n",
    "            return \"Rhombus\"\n",
    "    elif sides.count(sides[0]) == 2 and sides.count(sides[2]) == 2:\n",
    "        if angles.count(90) == 4:\n",
    "            return \"Rectangle\"\n",
    "        else:\n",
    "            return \"Parallelogram\"\n",
    "    else:\n",
    "        return \"Other Quadrilateral\"\n",
    "\n",
    "sides = [4, 4, 4, 4]\n",
    "angles = [90, 90, 90, 90]\n",
    "print(f\"Quadrilateral Type: {quadrilateral_type(sides, angles)}\")"
   ]
  },
  {
   "cell_type": "code",
   "execution_count": 23,
   "id": "76c729a7-10a6-49f3-9e42-26e8ddaf82e0",
   "metadata": {},
   "outputs": [
    {
     "name": "stdout",
     "output_type": "stream",
     "text": [
      "The season is summer.\n",
      "The season is Rainy.\n",
      "The season is winter.\n"
     ]
    }
   ],
   "source": [
    "# 29. Write a Python script to determine the season based on a user-provided month using elif statements.\n",
    "\n",
    "def determine_season(month):\n",
    "    if month in ( 'february','march','april','may'):\n",
    "        return 'summer'\n",
    "    elif month in ('june', 'july', 'august','september',):\n",
    "        return 'Rainy'\n",
    "    elif month in ( 'october', 'november','december', 'january'):\n",
    "        return 'winter'\n",
    "    else:\n",
    "        return 'Invalid Month'\n",
    "\n",
    "\n",
    "print(f\"The season is {determine_season('april')}.\")\n",
    "print(f\"The season is {determine_season('july')}.\")\n",
    "print(f\"The season is {determine_season('october')}.\")"
   ]
  },
  {
   "cell_type": "code",
   "execution_count": 1,
   "id": "e18ddbd3-f99a-4e22-8678-9457447f2d88",
   "metadata": {},
   "outputs": [
    {
     "name": "stdin",
     "output_type": "stream",
     "text": [
      "Enter a month (1-12):  2\n",
      "Enter a year:  2024\n"
     ]
    },
    {
     "name": "stdout",
     "output_type": "stream",
     "text": [
      "29 days month and leap year\n"
     ]
    }
   ],
   "source": [
    "#30. Implement a program to determine the type of a year (leap or common) and month (30 or 31 days) using elif statements.\n",
    "\n",
    "\n",
    "def check_leap_month(month,year:int):\n",
    "    if (year % 4 == 0 and year % 100 != 0) or (year % 400 == 0):\n",
    "        if month in [1, 3, 5, 7, 8, 10, 12]:\n",
    "            return \"31 days month and leap year \"\n",
    "        elif month==2:\n",
    "            return '29 days month and leap year'\n",
    "        else:\n",
    "            return \"30 days month and leap year\"\n",
    "        return 'leap year'\n",
    "    elif month in [1, 3, 5, 7, 8, 10, 12]:\n",
    "        return \"common year and have 31 days in month\"\n",
    "    elif month==2:\n",
    "            return '28 days month and not a leap year'\n",
    "    else:\n",
    "        return \"common year and have 30 days in month\"\n",
    "\n",
    "month = int(input(\"Enter a month (1-12): \"))\n",
    "year = int(input(\"Enter a year: \"))\n",
    "print(check_leap_month(month,year))"
   ]
  },
  {
   "cell_type": "code",
   "execution_count": null,
   "id": "bc44d04f-b273-43a1-9869-4304f1d8370f",
   "metadata": {},
   "outputs": [],
   "source": []
  },
  {
   "cell_type": "markdown",
   "id": "bcb4b3a1-0e34-4aaa-b3f4-534c8ebf2e9b",
   "metadata": {},
   "source": [
    "Basic Level"
   ]
  },
  {
   "cell_type": "code",
   "execution_count": 4,
   "id": "eced85c4-684d-48d2-bb41-8fc88b36c653",
   "metadata": {},
   "outputs": [
    {
     "name": "stdin",
     "output_type": "stream",
     "text": [
      "enter a number  5\n"
     ]
    },
    {
     "name": "stdout",
     "output_type": "stream",
     "text": [
      "number is positive\n"
     ]
    }
   ],
   "source": [
    "# 1. Write a Python program that checks if a given number is positive, negative, or zero.\n",
    "\n",
    "def posi_negative():\n",
    "    number=int(input(\"enter a number \"))\n",
    "    if number>0:\n",
    "        print(\"number is positive\")\n",
    "    elif number==0:\n",
    "        print(\"number is zero\")\n",
    "    else:\n",
    "        print(\"number is negative\")\n",
    "posi_negative()"
   ]
  },
  {
   "cell_type": "code",
   "execution_count": 5,
   "id": "78a66601-564b-49fc-a0a5-43d2851c2bfb",
   "metadata": {},
   "outputs": [
    {
     "name": "stdin",
     "output_type": "stream",
     "text": [
      "enter a age  17\n"
     ]
    },
    {
     "name": "stdout",
     "output_type": "stream",
     "text": [
      "the person is not eligible for voting\n"
     ]
    }
   ],
   "source": [
    "# 2. Create a program that determines if a person is eligible to vote based on their age.\n",
    "\n",
    "def check_eligible():\n",
    "    age=int(input(\"enter a age \"))\n",
    "    if age>=18:\n",
    "        print(\"the person is eligible for voting\")\n",
    "    else:\n",
    "        print(\"the person is not eligible for voting\")\n",
    "check_eligible()"
   ]
  },
  {
   "cell_type": "code",
   "execution_count": 6,
   "id": "909a191c-87bf-4ff7-8074-f4b46cc8262e",
   "metadata": {},
   "outputs": [
    {
     "name": "stdout",
     "output_type": "stream",
     "text": [
      "second is maximum number\n",
      "first is maximum number\n"
     ]
    }
   ],
   "source": [
    "# 3. Write a program to find the maximum of two given numbers using conditional statements.\n",
    "\n",
    "def check_max(num1,num2):\n",
    "    if num1>num2:\n",
    "       print(\"first is maximum number\")\n",
    "    else:\n",
    "        print(\"second is maximum number\")\n",
    "check_max(25,100)\n",
    "check_max(25,10.50)\n",
    "    "
   ]
  },
  {
   "cell_type": "code",
   "execution_count": 7,
   "id": "248f231f-6a26-4ace-bb85-e1c0d0c4d4ad",
   "metadata": {},
   "outputs": [
    {
     "name": "stdout",
     "output_type": "stream",
     "text": [
      "Grade => A\n",
      "Grade => B\n",
      "Grade => c\n",
      "Grade => D\n",
      "Fail\n"
     ]
    }
   ],
   "source": [
    "# 4. Develop a program that calculates the grade of a student based on their exam score.\n",
    "\n",
    "def calculate_grade(score):\n",
    "    if score >= 90:\n",
    "        print(\"Grade => A\")\n",
    "    elif score >=80:\n",
    "        print(\"Grade => B\")\n",
    "    elif score >=70:\n",
    "        print(\"Grade => c\")\n",
    "    elif score >=60:\n",
    "        print(\"Grade => D\")\n",
    "    else:\n",
    "        print(\"Fail\")\n",
    "\n",
    "calculate_grade(90)\n",
    "calculate_grade(88)\n",
    "calculate_grade(75)\n",
    "calculate_grade(60)\n",
    "calculate_grade(45)"
   ]
  },
  {
   "cell_type": "code",
   "execution_count": 8,
   "id": "f24041e0-d88f-4020-a94d-370ec10fdd14",
   "metadata": {},
   "outputs": [
    {
     "name": "stdout",
     "output_type": "stream",
     "text": [
      "leap year\n",
      "common year\n"
     ]
    }
   ],
   "source": [
    "# 5. Create a program that checks if a year is a leap year or not.\n",
    "\n",
    "def check_year(year):\n",
    "    if (year % 4 == 0 and year % 100 != 0) or (year % 400 == 0):\n",
    "        print(\"leap year\")\n",
    "    else:\n",
    "        print(\"common year\")\n",
    "check_year(2000)\n",
    "check_year(2002)"
   ]
  },
  {
   "cell_type": "code",
   "execution_count": 1,
   "id": "f395791a-3723-4fac-8286-42f6f34497fc",
   "metadata": {},
   "outputs": [
    {
     "name": "stdin",
     "output_type": "stream",
     "text": [
      "enter side 1 =>  5\n",
      "enter side 2 => 10\n",
      "enter side 3 => 10\n"
     ]
    },
    {
     "name": "stdout",
     "output_type": "stream",
     "text": [
      "It is Isosceles triangle\n"
     ]
    }
   ],
   "source": [
    "# 6. Write a program to classify a triangle based on its sides' lengths.\n",
    "def classify_triangle():\n",
    "    side1= input(\"enter side 1 => \")\n",
    "    side2= input(\"enter side 2 =>\")\n",
    "    side3= input(\"enter side 3 =>\")\n",
    "    if side1==side2==side3:\n",
    "        print(\"It is Equilateral triangle\")\n",
    "    elif side1==side2 or side2==side3 or side3==side1:\n",
    "        print(\"It is Isosceles triangle\")\n",
    "    else:\n",
    "        print(\"It is Scalene triangle\")\n",
    "classify_triangle()"
   ]
  },
  {
   "cell_type": "code",
   "execution_count": 2,
   "id": "9e24b571-18fa-467a-bbb2-fd2a60ce09a5",
   "metadata": {},
   "outputs": [
    {
     "name": "stdout",
     "output_type": "stream",
     "text": [
      "largest number is  30\n",
      "largest number is  100\n",
      "largest number is  90\n"
     ]
    }
   ],
   "source": [
    "# 7. Build a program that determines the largest of three given numbers.\n",
    "def largest_number (number1,number2,number3):\n",
    "    if number1>number2 and number1>number3:\n",
    "        print(\"largest number is \",number1)\n",
    "    elif number2>number1 and number2>number3:\n",
    "        print(\"largest number is \",number2)\n",
    "    else:\n",
    "        print(\"largest number is \",number3)\n",
    "\n",
    "largest_number(10,20,30)\n",
    "largest_number(100,48,22)\n",
    "largest_number(60,90,80)"
   ]
  },
  {
   "cell_type": "code",
   "execution_count": 3,
   "id": "db7f52de-1abf-4bf0-aee9-835599138d06",
   "metadata": {},
   "outputs": [
    {
     "name": "stdout",
     "output_type": "stream",
     "text": [
      "It is vowel\n",
      "It is consonant\n",
      "It is vowel\n"
     ]
    }
   ],
   "source": [
    "# 8. Develop a program that checks whether a character is a vowel or a consonant.\n",
    "def check_character (character):\n",
    "    if character in \"AEIOUaeiou\":\n",
    "        print(\"It is vowel\")\n",
    "    else:\n",
    "        print(\"It is consonant\")\n",
    "\n",
    "check_character(\"U\")\n",
    "check_character(\"s\")\n",
    "check_character(\"A\")"
   ]
  },
  {
   "cell_type": "code",
   "execution_count": 4,
   "id": "f635ec24-3f7a-4a24-8bf0-bfb217fec130",
   "metadata": {},
   "outputs": [
    {
     "name": "stdout",
     "output_type": "stream",
     "text": [
      "marked up price is => 375.75 RS\n",
      "marked up price is => 225.0 RS\n"
     ]
    }
   ],
   "source": [
    "# 9. Create a program to calculate the total cost of a shopping cart based on discounts.\n",
    "\n",
    "def total_cost(product_price):\n",
    "    if product_price <= 100:\n",
    "        discount=0.05\n",
    "    elif product_price <=500:\n",
    "        discount= 0.1\n",
    "    else :\n",
    "        discount = 0.25    \n",
    "    mrp= product_price *(1- discount)\n",
    "    return mrp\n",
    "    product_price=500\n",
    "print(\"marked up price is =>\",total_cost(501),\"RS\")\n",
    "print(\"marked up price is =>\",total_cost(250),\"RS\")"
   ]
  },
  {
   "cell_type": "code",
   "execution_count": 5,
   "id": "3410d3a3-8285-4af4-a720-5db298db0c56",
   "metadata": {},
   "outputs": [
    {
     "name": "stdout",
     "output_type": "stream",
     "text": [
      "odd number\n",
      "even number\n"
     ]
    }
   ],
   "source": [
    "# 10. Write a program that checks if a given number is even or odd.\n",
    "def number_check (numb):\n",
    "    if numb %2==0:\n",
    "        print (\"even number\")\n",
    "    else:\n",
    "        print(\"odd number\")\n",
    "number_check(1)\n",
    "number_check(2)"
   ]
  },
  {
   "cell_type": "code",
   "execution_count": null,
   "id": "ba99268a-3a5e-4c68-879c-a7eec598c4ac",
   "metadata": {},
   "outputs": [],
   "source": []
  },
  {
   "cell_type": "markdown",
   "id": "a0f6a60a-19d6-4cf2-a32b-7da820122f70",
   "metadata": {},
   "source": [
    "Intermediate Level"
   ]
  },
  {
   "cell_type": "code",
   "execution_count": 11,
   "id": "85f613e6-5d1c-457f-9cb1-2f054962c6af",
   "metadata": {},
   "outputs": [
    {
     "name": "stdin",
     "output_type": "stream",
     "text": [
      "Enter coefficient a:  3\n",
      "Enter coefficient b:  4\n",
      "Enter coefficient c:  2\n"
     ]
    },
    {
     "name": "stdout",
     "output_type": "stream",
     "text": [
      "The roots are: (-0.6666666666666666-0.47140452079103173j) and (-0.6666666666666666+0.47140452079103173j)\n"
     ]
    }
   ],
   "source": [
    " \n",
    "\n",
    "# 11. Write a program that calculates the roots of a quadratic equation .\n",
    "\n",
    "import cmath\n",
    "\n",
    "def quadratic_roots(a, b, c):\n",
    "    d = (b**2) - (4*a*c)\n",
    "    root1 = (-b - cmath.sqrt(d)) / (2*a)\n",
    "    root2 = (-b + cmath.sqrt(d)) / (2*a)\n",
    "    return (root1, root2)\n",
    "\n",
    "a = float(input(\"Enter coefficient a: \"))\n",
    "b = float(input(\"Enter coefficient b: \"))\n",
    "c = float(input(\"Enter coefficient c: \"))\n",
    "roots = quadratic_roots(a, b, c)\n",
    "print(f\"The roots are: {roots[0]} and {roots[1]}\")\n",
    " "
   ]
  },
  {
   "cell_type": "code",
   "execution_count": 12,
   "id": "b0f3c40f-f5a9-4d0e-9cef-c795f64f2dcf",
   "metadata": {},
   "outputs": [
    {
     "name": "stdout",
     "output_type": "stream",
     "text": [
      "The day is: Wednesday\n"
     ]
    }
   ],
   "source": [
    "# 12. Create a program that determines the day of the week based on the day number (1-7).\n",
    "\n",
    "def day_of_week(day_num):\n",
    "    days = [\"Monday\", \"Tuesday\", \"Wednesday\", \"Thursday\", \"Friday\", \"Saturday\", \"Sunday\"]\n",
    "    if 1 <= day_num <= 7:\n",
    "        return days[day_num - 1]\n",
    "    else:\n",
    "        return \"Invalid day number\"\n",
    "\n",
    "\n",
    "print(\"The day is:\", day_of_week(3))"
   ]
  },
  {
   "cell_type": "code",
   "execution_count": 13,
   "id": "abbc3046-ed92-4118-ba31-fe5a3019b309",
   "metadata": {},
   "outputs": [
    {
     "name": "stdin",
     "output_type": "stream",
     "text": [
      "Enter a number:  5\n"
     ]
    },
    {
     "name": "stdout",
     "output_type": "stream",
     "text": [
      "The factorial of 5 is 120\n"
     ]
    }
   ],
   "source": [
    "# 13. Develop a program that calculates the factorial of a given number using recursion.\n",
    "\n",
    "def factorial(n):\n",
    "    if n == 0 or n == 1:\n",
    "        return 1\n",
    "    else:\n",
    "        return n * factorial(n-1)\n",
    "\n",
    "number = int(input(\"Enter a number: \"))\n",
    "print(\"The factorial of\", number, \"is\", factorial(number))"
   ]
  },
  {
   "cell_type": "code",
   "execution_count": 1,
   "id": "8eade06a-143e-4790-b49c-92cf786afe41",
   "metadata": {},
   "outputs": [
    {
     "name": "stdin",
     "output_type": "stream",
     "text": [
      "Enter first number:  30\n",
      "Enter second number:  10\n",
      "Enter third number:  20\n"
     ]
    },
    {
     "name": "stdout",
     "output_type": "stream",
     "text": [
      "The largest number is: 30.0\n"
     ]
    }
   ],
   "source": [
    "# 14. Write a program to find the largest among three numbers without using the max() function.\n",
    "\n",
    "\n",
    "def largest (number1,number2,number3):\n",
    "    if number1>number2 and number1>number3:\n",
    "        return number1\n",
    "    elif number2>number1 and number2>number3:\n",
    "        return number2\n",
    "    else:\n",
    "        return number3\n",
    "\n",
    "number1= float(input(\"Enter first number: \"))\n",
    "number2 = float(input(\"Enter second number: \"))\n",
    "number3 = float(input(\"Enter third number: \"))\n",
    "print(\"The largest number is:\", largest(number1,number2,number3))"
   ]
  },
  {
   "cell_type": "code",
   "execution_count": 2,
   "id": "486c98bc-10ee-4c03-b62c-60901a4c404d",
   "metadata": {},
   "outputs": [
    {
     "name": "stdout",
     "output_type": "stream",
     "text": [
      "\n",
      "ATM Menu\n",
      "1. Check Balance\n",
      "2. Deposit Money\n",
      "3. Withdraw Money\n",
      "4. Exit\n"
     ]
    },
    {
     "name": "stdin",
     "output_type": "stream",
     "text": [
      "Enter your choice:  3\n",
      "Enter amount to withdraw:  500\n"
     ]
    },
    {
     "name": "stdout",
     "output_type": "stream",
     "text": [
      "Withdrawal successful. New balance is: 500.0\n",
      "\n",
      "ATM Menu\n",
      "1. Check Balance\n",
      "2. Deposit Money\n",
      "3. Withdraw Money\n",
      "4. Exit\n"
     ]
    },
    {
     "name": "stdin",
     "output_type": "stream",
     "text": [
      "Enter your choice:  1\n"
     ]
    },
    {
     "name": "stdout",
     "output_type": "stream",
     "text": [
      "Your current balance is: 500.0\n",
      "\n",
      "ATM Menu\n",
      "1. Check Balance\n",
      "2. Deposit Money\n",
      "3. Withdraw Money\n",
      "4. Exit\n"
     ]
    },
    {
     "name": "stdin",
     "output_type": "stream",
     "text": [
      "Enter your choice:  4\n"
     ]
    },
    {
     "name": "stdout",
     "output_type": "stream",
     "text": [
      "Exiting ATM. Have a nice day!\n"
     ]
    }
   ],
   "source": [
    "# 15. Create a program that simulates a basic ATM transaction menu.\n",
    "\n",
    "\n",
    "def atm_menu():\n",
    "    balance = 1000 \n",
    "    while True:\n",
    "        print(\"\\nATM Menu\")\n",
    "        print(\"1. Check Balance\")\n",
    "        print(\"2. Deposit Money\")\n",
    "        print(\"3. Withdraw Money\")\n",
    "        print(\"4. Exit\")\n",
    "        \n",
    "        choice = int(input(\"Enter your choice: \"))\n",
    "        \n",
    "        if choice == 1:\n",
    "            print(\"Your current balance is:\", balance)\n",
    "        elif choice == 2:\n",
    "            deposit = float(input(\"Enter amount to deposit: \"))\n",
    "            balance += deposit\n",
    "            print(\"Deposit successful. New balance is:\", balance)\n",
    "        elif choice == 3:\n",
    "            withdraw = float(input(\"Enter amount to withdraw: \"))\n",
    "            if withdraw <= balance:\n",
    "                balance -= withdraw\n",
    "                print(\"Withdrawal successful. New balance is:\", balance)\n",
    "            else:\n",
    "                print(\"Insufficient balance!\")\n",
    "        elif choice == 4:\n",
    "            print(\"Exiting ATM. Have a nice day!\")\n",
    "            break\n",
    "        else:\n",
    "            print(\"Invalid choice! Please try again.\")\n",
    "\n",
    "atm_menu()"
   ]
  },
  {
   "cell_type": "code",
   "execution_count": 3,
   "id": "cd76c8cd-74f5-46eb-83ce-68d7a8b55565",
   "metadata": {},
   "outputs": [
    {
     "name": "stdin",
     "output_type": "stream",
     "text": [
      "enter a string  stream\n"
     ]
    },
    {
     "name": "stdout",
     "output_type": "stream",
     "text": [
      "string is not palindrome\n"
     ]
    }
   ],
   "source": [
    "# 16. Build a program that checks if a given string is a palindrome or not.\n",
    "\n",
    "\n",
    "def check_palindrome (string):\n",
    "    if string ==string[::-1]:\n",
    "        print(\"string is palindrome\")\n",
    "    else:\n",
    "        print(\"string is not palindrome\")\n",
    "string=(input(\"enter a string \"))\n",
    "check_palindrome(string)"
   ]
  },
  {
   "cell_type": "code",
   "execution_count": 4,
   "id": "0e99c52f-cc1c-42b1-b77b-4503e6182e9f",
   "metadata": {},
   "outputs": [
    {
     "name": "stdout",
     "output_type": "stream",
     "text": [
      "average is 45.0\n"
     ]
    }
   ],
   "source": [
    "# 17. Write a program that calculates the average of a list of numbers, excluding the smallest and largest values.\n",
    "\n",
    "\n",
    "def average ():\n",
    "    x=numbers\n",
    "    if  x== numbers:\n",
    "        x.remove(max(numbers))\n",
    "        x.remove(min(numbers))\n",
    "        x = sum(x)/len(x)\n",
    "        print(\"average is\",x)\n",
    "\n",
    "numbers=[10,20,30,40,50,60,70,80]\n",
    "average()"
   ]
  },
  {
   "cell_type": "code",
   "execution_count": 5,
   "id": "3ffe1cc7-08cf-45ee-9cb3-335bea685d83",
   "metadata": {},
   "outputs": [
    {
     "name": "stdin",
     "output_type": "stream",
     "text": [
      "Enter temperature in Celsius:  32\n"
     ]
    },
    {
     "name": "stdout",
     "output_type": "stream",
     "text": [
      "32.0°C is equal to 89.6°F\n"
     ]
    }
   ],
   "source": [
    "# 18. Develop a program that converts a given temperature from Celsius to Fahrenheit.\n",
    "\n",
    "def celsius_to_fahrenheit(celsius):\n",
    "    return (celsius * 9/5) + 32\n",
    "\n",
    "\n",
    "celsius = float(input(\"Enter temperature in Celsius: \"))\n",
    "print(f\"{celsius}°C is equal to {celsius_to_fahrenheit(celsius)}°F\")"
   ]
  },
  {
   "cell_type": "code",
   "execution_count": 7,
   "id": "ff83b8a8-f28b-4439-8dd7-e54e4cd5b30c",
   "metadata": {},
   "outputs": [
    {
     "name": "stdin",
     "output_type": "stream",
     "text": [
      "First number:  5\n",
      "Second number:  10\n",
      "choose operation from => +,-,*,/    *\n"
     ]
    },
    {
     "name": "stdout",
     "output_type": "stream",
     "text": [
      "50.0\n"
     ]
    }
   ],
   "source": [
    "# 19. Create a program that simulates a basic calculator for addition, subtraction, multiplication, and division.\n",
    "\n",
    "\n",
    "def calculator():\n",
    "    a = float(input(\"First number: \"))\n",
    "    b = float(input(\"Second number: \"))\n",
    "    operation = (input(\"choose operation from => +,-,*,/   \"))\n",
    "    if operation == \"+\":\n",
    "        print(a+b)\n",
    "    elif operation==\"-\":\n",
    "        print(a-b)\n",
    "    elif operation == \"*\":\n",
    "        print(a*b)\n",
    "    elif operation == \"/\":\n",
    "        print(a/b)\n",
    "    else :\n",
    "        print(\" given data is Invalid\")\n",
    "\n",
    "calculator()"
   ]
  },
  {
   "cell_type": "code",
   "execution_count": 8,
   "id": "1019505f-92c8-4340-bb0a-8ca9f794dcf3",
   "metadata": {},
   "outputs": [
    {
     "name": "stdout",
     "output_type": "stream",
     "text": [
      "Root 1: (3+0j)\n",
      "Root 2: (1-0j)\n",
      "Root 3: (1.9999999999999998+0j)\n"
     ]
    }
   ],
   "source": [
    "# 20. Write a program that determines the roots of a cubic equation using the Cardano formula.\n",
    "\n",
    "import cmath\n",
    "\n",
    "def cardano_formula(a, b, c, d):\n",
    "    if a != 0:\n",
    "        b /= a\n",
    "        c /= a\n",
    "        d /= a\n",
    "    else:\n",
    "        raise ValueError(\"The coefficient 'a' must not be zero for a cubic equation.\")\n",
    "    \n",
    "    p = c - (b**2) / 3\n",
    "    q = (2 * b**3) / 27 - (b * c) / 3 + d\n",
    "    \n",
    "    discriminant = (q / 2)*2 + (p / 3)*3\n",
    "\n",
    "    if discriminant > 0:\n",
    "        u = cmath.exp(cmath.log(-q / 2 + cmath.sqrt(discriminant)) / 3)\n",
    "        v = cmath.exp(cmath.log(-q / 2 - cmath.sqrt(discriminant)) / 3)\n",
    "        roots = [\n",
    "            u + v - b / 3,\n",
    "            -(u + v) / 2 - b / 3 + cmath.sqrt(3) * (u - v) / 2j,\n",
    "            -(u + v) / 2 - b / 3 - cmath.sqrt(3) * (u - v) / 2j\n",
    "        ]\n",
    "    elif discriminant == 0:\n",
    "        u = cmath.exp(cmath.log(-q / 2) / 3)\n",
    "        roots = [\n",
    "            2 * u - b / 3,\n",
    "            -u - b / 3,\n",
    "            -u - b / 3\n",
    "        ]\n",
    "    else:\n",
    "        r = cmath.sqrt(-p / 3)\n",
    "        theta = cmath.acos(-q / (2 * r**3))\n",
    "        roots = [\n",
    "            2 * r * cmath.cos(theta / 3) - b / 3,\n",
    "            2 * r * cmath.cos((theta + 2 * cmath.pi) / 3) - b / 3,\n",
    "            2 * r * cmath.cos((theta + 4 * cmath.pi) / 3) - b / 3\n",
    "        ]\n",
    "    \n",
    "    return roots\n",
    "\n",
    "\n",
    "a, b, c, d = 1, -6, 11, -6  \n",
    "roots = cardano_formula(a, b, c, d)\n",
    "for i, root in enumerate(roots):\n",
    "    print(f\"Root {i+1}: {root}\")"
   ]
  },
  {
   "cell_type": "code",
   "execution_count": null,
   "id": "22b4d0d4-d584-4ba3-bfd5-9d0e4af7ee67",
   "metadata": {},
   "outputs": [],
   "source": []
  },
  {
   "cell_type": "markdown",
   "id": "7fff6b92-e405-49af-8cab-bf03c5efe584",
   "metadata": {},
   "source": [
    "Advanced Level:"
   ]
  },
  {
   "cell_type": "code",
   "execution_count": 9,
   "id": "3874513c-0071-43a3-a436-41ad8733fe23",
   "metadata": {},
   "outputs": [
    {
     "name": "stdin",
     "output_type": "stream",
     "text": [
      "Enter your income:  20000\n"
     ]
    },
    {
     "name": "stdout",
     "output_type": "stream",
     "text": [
      "Income tax for RS 20000.0 is RS 1000.0\n"
     ]
    }
   ],
   "source": [
    "# 21. Create a program that calculates the income tax based on the user's income and tax brackets.\n",
    "\n",
    "def calculate_income_tax(income):\n",
    "    if income <= 10000:\n",
    "        tax = 0\n",
    "    elif income <= 50000:\n",
    "        tax = (income - 10000) * 0.1\n",
    "    elif income <= 100000:\n",
    "        tax = 4000 + (income - 50000) * 0.2\n",
    "    else:\n",
    "        tax = 14000 + (income - 100000) * 0.3\n",
    "    return tax\n",
    "\n",
    "income = float(input(\"Enter your income: \"))\n",
    "tax = calculate_income_tax(income)\n",
    "print(f\"Income tax for RS {income} is RS {tax}\")"
   ]
  },
  {
   "cell_type": "code",
   "execution_count": 11,
   "id": "ca7da6ca-4eda-46f0-a9dd-c4b99483a159",
   "metadata": {},
   "outputs": [
    {
     "name": "stdin",
     "output_type": "stream",
     "text": [
      "Enter your choice (rock/paper/scissors):  rock\n"
     ]
    },
    {
     "name": "stdout",
     "output_type": "stream",
     "text": [
      "Player chooses: rock\n",
      "Computer chooses: scissors\n",
      "Player wins!\n"
     ]
    }
   ],
   "source": [
    "# 22. Write a program that simulates a rock-paper-scissors game against the computer.\n",
    "\n",
    "import random\n",
    "def rock_paper_scissors(player_choice):\n",
    "    choices = ['rock', 'paper', 'scissors']\n",
    "    computer_choice = random.choice(choices)\n",
    "    \n",
    "    print(f\"Player chooses: {player_choice}\")\n",
    "    print(f\"Computer chooses: {computer_choice}\")\n",
    "    \n",
    "    if player_choice == computer_choice:\n",
    "        return \"It's a tie!\"\n",
    "    elif (player_choice == 'rock' and computer_choice == 'scissors') or \\\n",
    "         (player_choice == 'paper' and computer_choice == 'rock') or \\\n",
    "         (player_choice == 'scissors' and computer_choice == 'paper'):\n",
    "        return \"Player wins!\"\n",
    "    else:\n",
    "        return \"Computer wins!\"\n",
    "\n",
    "player_choice = input(\"Enter your choice (rock/paper/scissors): \").lower()\n",
    "result = rock_paper_scissors(player_choice)\n",
    "print(result)"
   ]
  },
  {
   "cell_type": "code",
   "execution_count": 12,
   "id": "d32b86ac-4cc8-4237-b8da-f1d54faa20bc",
   "metadata": {},
   "outputs": [
    {
     "name": "stdin",
     "output_type": "stream",
     "text": [
      "Enter password length:  5\n",
      "Enter password complexity (easy/medium/hard):  medium\n"
     ]
    },
    {
     "name": "stdout",
     "output_type": "stream",
     "text": [
      "Generated password: /A5K@\n"
     ]
    }
   ],
   "source": [
    "# 23. Develop a program that generates a random password based on user preferences (length, complexity).\n",
    "\n",
    "import random \n",
    "import string\n",
    "def generate_password(length, complexity):\n",
    "    if complexity == 'easy':\n",
    "        characters = string.ascii_letters + string.digits\n",
    "    elif complexity == 'medium':\n",
    "        characters = string.ascii_letters + string.digits + string.punctuation\n",
    "    elif complexity == 'hard':\n",
    "        characters = string.ascii_letters + string.digits + string.punctuation + string.ascii_uppercase + string.ascii_lowercase\n",
    "    \n",
    "    password = ''.join(random.choice(characters) for _ in range(length))\n",
    "    return password\n",
    "\n",
    "\n",
    "length = int(input(\"Enter password length: \"))\n",
    "complexity = input(\"Enter password complexity (easy/medium/hard): \").lower()\n",
    "password = generate_password(length, complexity)\n",
    "print(\"Generated password:\", password)"
   ]
  },
  {
   "cell_type": "code",
   "execution_count": 13,
   "id": "2be05c27-1947-44cf-8180-20297d187297",
   "metadata": {},
   "outputs": [
    {
     "name": "stdout",
     "output_type": "stream",
     "text": [
      "Welcome to the Adventure Game!\n",
      "You find yourself in a dark forest...\n",
      "1. Go left into the cave\n",
      "2. Go right towards the river\n",
      "3. Go straight ahead into the meadow\n"
     ]
    },
    {
     "name": "stdin",
     "output_type": "stream",
     "text": [
      "Enter your choice (1/2/3):  2\n"
     ]
    },
    {
     "name": "stdout",
     "output_type": "stream",
     "text": [
      "You reach the river and see a boat.\n"
     ]
    }
   ],
   "source": [
    "# 24. Create a program that implements a simple text-based adventure game with branching scenarios.\n",
    "\n",
    "def adventure_game():\n",
    "    print(\"Welcome to the Adventure Game!\")\n",
    "    print(\"You find yourself in a dark forest...\")\n",
    "    print(\"1. Go left into the cave\")\n",
    "    print(\"2. Go right towards the river\")\n",
    "    print(\"3. Go straight ahead into the meadow\")\n",
    "    \n",
    "    choice = input(\"Enter your choice (1/2/3): \")\n",
    "    \n",
    "    if choice == '1':\n",
    "        print(\"You enter the cave and find a treasure chest!\")\n",
    "    elif choice == '2':\n",
    "        print(\"You reach the river and see a boat.\")\n",
    "    elif choice == '3':\n",
    "        print(\"You walk into the meadow and encounter a friendly wizard.\")\n",
    "    else:\n",
    "        print(\"Invalid choice. Please try again.\")\n",
    "\n",
    "adventure_game()"
   ]
  },
  {
   "cell_type": "code",
   "execution_count": null,
   "id": "f83309c4-9be0-4858-a1a1-32efddae18d0",
   "metadata": {},
   "outputs": [
    {
     "name": "stdin",
     "output_type": "stream",
     "text": [
      "Enter coefficient a:  5\n",
      "Enter coefficient b:  15\n"
     ]
    },
    {
     "name": "stdout",
     "output_type": "stream",
     "text": [
      "The solution is x = -3.0\n"
     ]
    }
   ],
   "source": [
    "# 25. Build a program that solves a linear equation  for x, considering different cases.\n",
    "def solve_linear_equation(a, b):\n",
    "    if a == 0:\n",
    "        if b == 0:\n",
    "            return \"Infinite solutions (all real numbers)\"\n",
    "        else:\n",
    "            return \"No solution\"\n",
    "    else:\n",
    "        x = -b / a\n",
    "        return f\"The solution is x = {x}\"\n",
    "\n",
    "a = float(input(\"Enter coefficient a: \"))\n",
    "b = float(input(\"Enter coefficient b: \"))\n",
    "print(solve_linear_equation(a, b))"
   ]
  },
  {
   "cell_type": "code",
   "execution_count": 17,
   "id": "9b0873aa-8ab4-4be6-811e-b87041e98322",
   "metadata": {},
   "outputs": [
    {
     "name": "stdout",
     "output_type": "stream",
     "text": [
      "Question 1: What is the capital of France?\n",
      "A. London\n",
      "B. Paris\n",
      "C. Rome\n"
     ]
    },
    {
     "name": "stdin",
     "output_type": "stream",
     "text": [
      "Enter your answer (A/B/C):  b\n"
     ]
    },
    {
     "name": "stdout",
     "output_type": "stream",
     "text": [
      "Correct!\n",
      "Question 2: Which planet is known as the Red Planet?\n",
      "A. Mars\n",
      "B. Venus\n",
      "C. Jupiter\n"
     ]
    },
    {
     "name": "stdin",
     "output_type": "stream",
     "text": [
      "Enter your answer (A/B/C):  a\n"
     ]
    },
    {
     "name": "stdout",
     "output_type": "stream",
     "text": [
      "Correct!\n",
      "Question 3: Who wrote 'Harry Potter' series?\n",
      "A. J.K. Rowling\n",
      "B. Stephen King\n",
      "C. George R.R. Martin\n"
     ]
    },
    {
     "name": "stdin",
     "output_type": "stream",
     "text": [
      "Enter your answer (A/B/C):  c\n"
     ]
    },
    {
     "name": "stdout",
     "output_type": "stream",
     "text": [
      "Incorrect!\n",
      "You scored 2 out of 3\n"
     ]
    }
   ],
   "source": [
    "# 26. Write a program that simulates a basic quiz game with multiple-choice questions and scoring.\n",
    "\n",
    "def quiz_game():\n",
    "    questions = [\n",
    "        {\"question\": \"What is the capital of France?\", \"options\": [\"A. London\", \"B. Paris\", \"C. Rome\"], \"answer\": \"B\"},\n",
    "        {\"question\": \"Which planet is known as the Red Planet?\", \"options\": [\"A. Mars\", \"B. Venus\", \"C. Jupiter\"], \"answer\": \"A\"},\n",
    "        {\"question\": \"Who wrote 'Harry Potter' series?\", \"options\": [\"A. J.K. Rowling\", \"B. Stephen King\", \"C. George R.R. Martin\"], \"answer\": \"A\"}\n",
    "    ]\n",
    "    \n",
    "    score = 0\n",
    "    \n",
    "    for i, question in enumerate(questions, 1):\n",
    "        print(f\"Question {i}: {question['question']}\")\n",
    "        for option in question['options']:\n",
    "            print(option)\n",
    "        user_answer = input(\"Enter your answer (A/B/C): \").upper()\n",
    "        if user_answer == question['answer']:\n",
    "            print(\"Correct!\")\n",
    "            score += 1\n",
    "        else:\n",
    "            print(\"Incorrect!\")\n",
    "    \n",
    "    print(f\"You scored {score} out of {len(questions)}\")\n",
    "\n",
    "quiz_game()"
   ]
  },
  {
   "cell_type": "code",
   "execution_count": 19,
   "id": "fb112643-5fa5-4c61-aee1-04c9e26414d0",
   "metadata": {},
   "outputs": [
    {
     "name": "stdin",
     "output_type": "stream",
     "text": [
      "Enter a year:  97\n"
     ]
    },
    {
     "name": "stdout",
     "output_type": "stream",
     "text": [
      "97 is a prime number\n"
     ]
    }
   ],
   "source": [
    "# 27. Develop a program that determines whether a given year is a prime number or not.\n",
    "\n",
    "def is_prime(year):\n",
    "    if year <= 1:\n",
    "        return False\n",
    "    for i in range(2, int(year**0.5) + 1):\n",
    "        if year % i == 0:\n",
    "            return False\n",
    "    return True\n",
    "\n",
    "year = int(input(\"Enter a year: \"))\n",
    "if is_prime(year):\n",
    "    print(year, \"is a prime number\")\n",
    "else:\n",
    "    print(year, \"is not a prime number\")"
   ]
  },
  {
   "cell_type": "code",
   "execution_count": 21,
   "id": "c1f80019-5e80-454c-b87e-35e7c8ef4b34",
   "metadata": {},
   "outputs": [
    {
     "name": "stdin",
     "output_type": "stream",
     "text": [
      "Enter first number:  45\n",
      "Enter second number:  75\n",
      "Enter third number:  10\n"
     ]
    },
    {
     "name": "stdout",
     "output_type": "stream",
     "text": [
      "Numbers in ascending order: (10.0, 45.0, 75.0)\n"
     ]
    }
   ],
   "source": [
    "# 28. Create a program that sorts three numbers in ascending order using conditional statements.\n",
    "\n",
    "def sort_three_numbers(a, b, c):\n",
    "    if a <= b <= c:\n",
    "        return (a, b, c)\n",
    "    elif a <= c <= b:\n",
    "        return (a, c, b)\n",
    "    elif b <= a <= c:\n",
    "        return (b, a, c)\n",
    "    elif b <= c <= a:\n",
    "        return (b, c, a)\n",
    "    elif c <= a <= b:\n",
    "        return (c, a, b)\n",
    "    else:\n",
    "        return (c, b, a)\n",
    "\n",
    "\n",
    "a = float(input(\"Enter first number: \"))\n",
    "b = float(input(\"Enter second number: \"))\n",
    "c = float(input(\"Enter third number: \"))\n",
    "sorted_numbers = sort_three_numbers(a, b, c)\n",
    "print(\"Numbers in ascending order:\", sorted_numbers)\n",
    "\n",
    " "
   ]
  },
  {
   "cell_type": "code",
   "execution_count": 25,
   "id": "2f6c5186-982a-4373-8247-5365cc6cbb3e",
   "metadata": {},
   "outputs": [
    {
     "name": "stdin",
     "output_type": "stream",
     "text": [
      "Enter initial guess for root:  10\n"
     ]
    },
    {
     "name": "stdout",
     "output_type": "stream",
     "text": [
      "No root found within the tolerance.\n"
     ]
    }
   ],
   "source": [
    "# 29. Build a program that determines the roots of a quartic equation using numerical methods.\n",
    "\n",
    "def f(x):\n",
    "    return x*4 - 3*x*2 - 3*x + 1\n",
    "\n",
    "def f_prime(x):\n",
    "    return 4*x**3 - 6*x - 3\n",
    "\n",
    "def newton_raphson_quartic(guess):\n",
    "    tolerance = 1e-6\n",
    "    max_iterations = 100\n",
    "    x = guess\n",
    "    \n",
    "    for i in range(max_iterations):\n",
    "        x_next = x - f(x) / f_prime(x)\n",
    "        if abs(x_next - x) < tolerance:\n",
    "            return x_next\n",
    "        x = x_next\n",
    "    \n",
    "    return None  \n",
    "\n",
    "initial_guess = float(input(\"Enter initial guess for root: \"))\n",
    "root = newton_raphson_quartic(initial_guess)\n",
    "if root is not None:\n",
    "    print(\"Root found at:\", root)\n",
    "else:\n",
    "    print(\"No root found within the tolerance.\")"
   ]
  },
  {
   "cell_type": "code",
   "execution_count": 26,
   "id": "859c8f7d-1b4e-49d8-a374-193ec53f9cdd",
   "metadata": {},
   "outputs": [
    {
     "name": "stdin",
     "output_type": "stream",
     "text": [
      "Enter your weight in kg:  50\n",
      "Enter your height in meters:  6\n"
     ]
    },
    {
     "name": "stdout",
     "output_type": "stream",
     "text": [
      "Your BMI is: 1.3888888888888888\n",
      "BMI Category: Underweight\n",
      "Health Recommendation: You are underweight. Consider consulting a nutritionist.\n"
     ]
    }
   ],
   "source": [
    "# 30. Write a program that calculates the BMI (Body Mass Index) and provides health recommendations based on the user's input.\n",
    "\n",
    "\n",
    "def calculate_bmi(weight, height):\n",
    "    bmi = weight / (height ** 2)\n",
    "    return bmi\n",
    "\n",
    "def bmi_category(bmi):\n",
    "    if bmi < 18.5:\n",
    "        return \"Underweight\"\n",
    "    elif bmi < 24.9:\n",
    "        return \"Normal weight\"\n",
    "    elif bmi < 29.9:\n",
    "        return \"Overweight\"\n",
    "    else:\n",
    "        return \"Obese\"\n",
    "\n",
    "def health_recommendation(bmi):\n",
    "    if bmi < 18.5:\n",
    "        return \"You are underweight. Consider consulting a nutritionist.\"\n",
    "    elif bmi < 24.9:\n",
    "        return \"You have a normal weight. Keep up the good work!\"\n",
    "    elif bmi < 29.9:\n",
    "        return \"You are overweight. Consider increasing physical activity and improving diet.\"\n",
    "    else:\n",
    "        return \"You are obese. It's important to consult a healthcare provider for guidance.\"\n",
    "    \n",
    "weight = float(input(\"Enter your weight in kg: \"))\n",
    "height = float(input(\"Enter your height in meters: \"))\n",
    "bmi = calculate_bmi(weight, height)\n",
    "print(f\"Your BMI is: {bmi}\")\n",
    "print(\"BMI Category:\", bmi_category(bmi))\n",
    "print(\"Health Recommendation:\", health_recommendation(bmi))"
   ]
  },
  {
   "cell_type": "code",
   "execution_count": null,
   "id": "99b412b5-49a1-40e5-9b4c-b9183a5d400c",
   "metadata": {},
   "outputs": [],
   "source": []
  },
  {
   "cell_type": "markdown",
   "id": "53591011-b264-4aad-ae25-129a3d862e04",
   "metadata": {},
   "source": [
    "Challenge Level"
   ]
  },
  {
   "cell_type": "code",
   "execution_count": 29,
   "id": "ca7127fe-3ead-49df-86f3-5b9edfe66ee6",
   "metadata": {},
   "outputs": [
    {
     "name": "stdin",
     "output_type": "stream",
     "text": [
      "Enter your password:  hiihello\n"
     ]
    },
    {
     "name": "stdout",
     "output_type": "stream",
     "text": [
      "Password must contain at least one uppercase letter.\n"
     ]
    }
   ],
   "source": [
    "# 31. Create a program that validates a password based on complexity rules (length, characters, etc.).\n",
    "\n",
    "import re\n",
    "\n",
    "def validate_password(password):\n",
    "    if len(password) < 8:\n",
    "        return \"Password must be at least 8 characters long.\"\n",
    "    if not re.search(\"[a-z]\", password):\n",
    "        return \"Password must contain at least one lowercase letter.\"\n",
    "    if not re.search(\"[A-Z]\", password):\n",
    "        return \"Password must contain at least one uppercase letter.\"\n",
    "    if not re.search(\"[0-9]\", password):\n",
    "        return \"Password must contain at least one digit.\"\n",
    "    if not re.search(\"[!@#$%^&*(),.?\\\":{}|<>]\", password):\n",
    "        return \"Password must contain at least one special character.\"\n",
    "    return \"Password is valid.\"\n",
    "\n",
    "password = input(\"Enter your password: \")\n",
    "print(validate_password(password))"
   ]
  },
  {
   "cell_type": "code",
   "execution_count": 30,
   "id": "716112d2-6312-4a3d-88bb-2f12f3e99cff",
   "metadata": {},
   "outputs": [
    {
     "name": "stdout",
     "output_type": "stream",
     "text": [
      "Matrix Addition:\n",
      "[[6, 8], [10, 12]]\n",
      "Matrix Subtraction:\n",
      "[[-4, -4], [-4, -4]]\n"
     ]
    }
   ],
   "source": [
    "# 32. Develop a program that performs matrix addition and subtraction based on user input.\n",
    "\n",
    "\n",
    "def matrix_addition(matrix1, matrix2):\n",
    "    return [[matrix1[i][j] + matrix2[i][j] for j in range(len(matrix1[0]))] for i in range(len(matrix1))]\n",
    "\n",
    "def matrix_subtraction(matrix1, matrix2):\n",
    "    return [[matrix1[i][j] - matrix2[i][j] for j in range(len(matrix1[0]))] for i in range(len(matrix1))]\n",
    "\n",
    "matrix1 = [[1, 2], [3, 4]]\n",
    "matrix2 = [[5, 6], [7, 8]]\n",
    "\n",
    "print(\"Matrix Addition:\")\n",
    "print(matrix_addition(matrix1, matrix2))\n",
    "\n",
    "print(\"Matrix Subtraction:\")\n",
    "print(matrix_subtraction(matrix1, matrix2))"
   ]
  },
  {
   "cell_type": "code",
   "execution_count": 31,
   "id": "fb37529e-464b-47f5-a6f6-a3ef8392b8fe",
   "metadata": {},
   "outputs": [
    {
     "name": "stdin",
     "output_type": "stream",
     "text": [
      "Enter the first number:  10\n",
      "Enter the second number:  20\n"
     ]
    },
    {
     "name": "stdout",
     "output_type": "stream",
     "text": [
      "The GCD of 10 and 20 is 10.\n"
     ]
    }
   ],
   "source": [
    "# 33. Write a program that calculates the greatest common divisor (GCD) of two numbers using the Euclidean  algorithm.\n",
    "\n",
    "def gcd(a, b):\n",
    "    while b:\n",
    "        a, b = b, a % b\n",
    "    return a\n",
    "\n",
    "num1 = int(input(\"Enter the first number: \"))\n",
    "num2 = int(input(\"Enter the second number: \"))\n",
    "print(f\"The GCD of {num1} and {num2} is {gcd(num1, num2)}.\")"
   ]
  },
  {
   "cell_type": "code",
   "execution_count": 32,
   "id": "57a56ef7-5562-4b96-bd91-a91ff2d40536",
   "metadata": {},
   "outputs": [
    {
     "name": "stdout",
     "output_type": "stream",
     "text": [
      "Matrix Multiplication:\n",
      "[[19, 22], [43, 50]]\n"
     ]
    }
   ],
   "source": [
    "# 34. Build a program that performs matrix multiplication using nested loops and conditional statements.\n",
    "\n",
    "def matrix_multiplication(matrix1, matrix2):\n",
    "    result = [[0 for _ in range(len(matrix2[0]))] for _ in range(len(matrix1))]\n",
    "    for i in range(len(matrix1)):\n",
    "        for j in range(len(matrix2[0])):\n",
    "            for k in range(len(matrix2)):\n",
    "                result[i][j] += matrix1[i][k] * matrix2[k][j]\n",
    "    return result\n",
    "\n",
    "matrix1 = [[1, 2], [3, 4]]\n",
    "matrix2 = [[5, 6], [7, 8]]\n",
    "\n",
    "print(\"Matrix Multiplication:\")\n",
    "print(matrix_multiplication(matrix1, matrix2))"
   ]
  },
  {
   "cell_type": "code",
   "execution_count": 37,
   "id": "21d22210-4f1e-4a61-9926-726fec58294d",
   "metadata": {},
   "outputs": [
    {
     "name": "stdout",
     "output_type": "stream",
     "text": [
      "     \n",
      "     \n",
      "     \n"
     ]
    },
    {
     "name": "stdin",
     "output_type": "stream",
     "text": [
      "Enter row and column (0-2) separated by space:  2 1\n"
     ]
    },
    {
     "name": "stdout",
     "output_type": "stream",
     "text": [
      "     \n",
      "     \n",
      "  X  \n",
      "O    \n",
      "     \n",
      "  X  \n"
     ]
    },
    {
     "name": "stdin",
     "output_type": "stream",
     "text": [
      "Enter row and column (0-2) separated by space:  0 1\n"
     ]
    },
    {
     "name": "stdout",
     "output_type": "stream",
     "text": [
      "O X  \n",
      "     \n",
      "  X  \n",
      "O X  \n",
      "O    \n",
      "  X  \n"
     ]
    },
    {
     "name": "stdin",
     "output_type": "stream",
     "text": [
      "Enter row and column (0-2) separated by space:  2 2\n"
     ]
    },
    {
     "name": "stdout",
     "output_type": "stream",
     "text": [
      "O X  \n",
      "O    \n",
      "  X X\n",
      "O X  \n",
      "O    \n",
      "O X X\n",
      "Player O wins!\n"
     ]
    }
   ],
   "source": [
    "# 35. Create a program that simulates a basic text-based tic-tac-toe game against the computer.\n",
    "\n",
    "import random\n",
    "\n",
    "def print_board(board):\n",
    "    for row in board:\n",
    "        print(\" \".join(row))\n",
    "\n",
    "def check_winner(board, player):\n",
    "    for row in board:\n",
    "        if all(s == player for s in row):\n",
    "            return True\n",
    "    for col in range(3):\n",
    "        if all(row[col] == player for row in board):\n",
    "            return True\n",
    "    if all(board[i][i] == player for i in range(3)) or all(board[i][2-i] == player for i in range(3)):\n",
    "        return True\n",
    "    return False\n",
    "\n",
    "def get_empty_positions(board):\n",
    "    return [(i, j) for i in range(3) for j in range(3) if board[i][j] == \" \"]\n",
    "\n",
    "def tic_tac_toe():\n",
    "    board = [[\" \" for _ in range(3)] for _ in range(3)]\n",
    "    current_player = \"X\"\n",
    "\n",
    "    for _ in range(9):\n",
    "        print_board(board)\n",
    "        if current_player == \"X\":\n",
    "            row, col = map(int, input(\"Enter row and column (0-2) separated by space: \").split())\n",
    "        else:\n",
    "            row, col = random.choice(get_empty_positions(board))\n",
    "\n",
    "        if board[row][col] != \" \":\n",
    "            print(\"Invalid move. Try again.\")\n",
    "            continue\n",
    "        \n",
    "        board[row][col] = current_player\n",
    "\n",
    "        if check_winner(board, current_player):\n",
    "            print_board(board)\n",
    "            print(f\"Player {current_player} wins!\")\n",
    "            return\n",
    "\n",
    "        current_player = \"O\" if current_player == \"X\" else \"X\"\n",
    "\n",
    "    print_board(board)\n",
    "    print(\"It's a draw!\")\n",
    "\n",
    "tic_tac_toe()"
   ]
  },
  {
   "cell_type": "code",
   "execution_count": 38,
   "id": "b8e9362f-863e-4e53-9fd7-dced98deaf49",
   "metadata": {},
   "outputs": [
    {
     "name": "stdin",
     "output_type": "stream",
     "text": [
      "Enter the number of terms:  5\n"
     ]
    },
    {
     "name": "stdout",
     "output_type": "stream",
     "text": [
      "Fibonacci sequence up to 5 terms: [0, 1, 1, 2, 3]\n"
     ]
    }
   ],
   "source": [
    "# 36. Write a program that generates Fibonacci numbers up to a specified term using iterative methods.\n",
    "\n",
    "def fibonacci(n):\n",
    "    fib_seq = [0, 1]\n",
    "    for i in range(2, n):\n",
    "        fib_seq.append(fib_seq[-1] + fib_seq[-2])\n",
    "    return fib_seq[:n]\n",
    "\n",
    "n = int(input(\"Enter the number of terms: \"))\n",
    "print(f\"Fibonacci sequence up to {n} terms: {fibonacci(n)}\")"
   ]
  },
  {
   "cell_type": "code",
   "execution_count": 39,
   "id": "4c620783-94fd-4b1d-a282-77599592402a",
   "metadata": {},
   "outputs": [
    {
     "name": "stdin",
     "output_type": "stream",
     "text": [
      "Enter the term number:  10\n"
     ]
    },
    {
     "name": "stdout",
     "output_type": "stream",
     "text": [
      "The 10th term of the Fibonacci sequence is: 55\n"
     ]
    },
    {
     "name": "stdin",
     "output_type": "stream",
     "text": [
      "Enter the month (1-12):  5\n",
      "Enter the year:  2021\n"
     ]
    },
    {
     "name": "stdout",
     "output_type": "stream",
     "text": [
      "      May 2021\n",
      "Mo Tu We Th Fr Sa Su\n",
      "                1  2\n",
      " 3  4  5  6  7  8  9\n",
      "10 11 12 13 14 15 16\n",
      "17 18 19 20 21 22 23\n",
      "24 25 26 27 28 29 30\n",
      "31\n",
      "\n"
     ]
    }
   ],
   "source": [
    "# 37. Develop a program that calculates the nth term of the Fibonacci sequence using memoization.\n",
    "def fibonacci_memo(n, memo={}):\n",
    "    if n in memo:\n",
    "        return memo[n]\n",
    "    if n <= 1:\n",
    "        return n\n",
    "    memo[n] = fibonacci_memo(n-1, memo) + fibonacci_memo(n-2, memo)\n",
    "    return memo[n]\n",
    "\n",
    "n = int(input(\"Enter the term number: \"))\n",
    "print(f\"The {n}th term of the Fibonacci sequence is: {fibonacci_memo(n)}\")\n",
    "\n",
    "\n",
    "\n",
    "\n",
    "# 38. Create a program that generates a calendar for a given month and year using conditional statements.\n",
    "import calendar\n",
    "\n",
    "def generate_calendar(month, year):\n",
    "    print(calendar.month(year, month))\n",
    "\n",
    "month = int(input(\"Enter the month (1-12): \"))\n",
    "year = int(input(\"Enter the year: \"))\n",
    "generate_calendar(month, year)"
   ]
  },
  {
   "cell_type": "code",
   "execution_count": 40,
   "id": "ce1fd6a5-d2c8-4a46-8a8a-cc7c34a55acc",
   "metadata": {},
   "outputs": [
    {
     "name": "stdout",
     "output_type": "stream",
     "text": [
      "Player hand: ['8', 'K'], total: 18\n",
      "Dealer's face-up card: 7\n"
     ]
    },
    {
     "name": "stdin",
     "output_type": "stream",
     "text": [
      "Hit or stand? (h/s):  h\n"
     ]
    },
    {
     "name": "stdout",
     "output_type": "stream",
     "text": [
      "Player hand: ['8', 'K', '7'], total: 25\n",
      "Dealer's face-up card: 7\n",
      "Player busts! Dealer wins.\n"
     ]
    }
   ],
   "source": [
    "# 39. Build a program that simulates a basic text-based blackjack game against the computer.\n",
    "\n",
    "import random\n",
    "\n",
    "def draw_card():\n",
    "    cards = ['2', '3', '4', '5', '6', '7', '8', '9', '10', 'J', 'Q', 'K', 'A']\n",
    "    return random.choice(cards)\n",
    "\n",
    "def card_value(card):\n",
    "    if card in ['J', 'Q', 'K']:\n",
    "        return 10\n",
    "    if card == 'A':\n",
    "        return 11\n",
    "    return int(card)\n",
    "\n",
    "def calculate_hand(hand):\n",
    "    total = sum(card_value(card) for card in hand)\n",
    "    aces = hand.count('A')\n",
    "    while total > 21 and aces:\n",
    "        total -= 10\n",
    "        aces -= 1\n",
    "    return total\n",
    "\n",
    "def blackjack():\n",
    "    player_hand = [draw_card(), draw_card()]\n",
    "    dealer_hand = [draw_card(), draw_card()]\n",
    "\n",
    "    while True:\n",
    "        print(f\"Player hand: {player_hand}, total: {calculate_hand(player_hand)}\")\n",
    "        print(f\"Dealer's face-up card: {dealer_hand[0]}\")\n",
    "\n",
    "        if calculate_hand(player_hand) > 21:\n",
    "            print(\"Player busts! Dealer wins.\")\n",
    "            return\n",
    "        if input(\"Hit or stand? (h/s): \").lower() == 'h':\n",
    "            player_hand.append(draw_card())\n",
    "        else:\n",
    "            break\n",
    "\n",
    "    while calculate_hand(dealer_hand) < 17:\n",
    "        dealer_hand.append(draw_card())\n",
    "\n",
    "    print(f\"Dealer hand: {dealer_hand}, total: {calculate_hand(dealer_hand)}\")\n",
    "    if calculate_hand(dealer_hand) > 21 or calculate_hand(player_hand) > calculate_hand(dealer_hand):\n",
    "        print(\"Player wins!\")\n",
    "    elif calculate_hand(player_hand) < calculate_hand(dealer_hand):\n",
    "        print(\"Dealer wins.\")\n",
    "    else:\n",
    "        print(\"It's a tie.\")\n",
    "\n",
    "blackjack()"
   ]
  },
  {
   "cell_type": "code",
   "execution_count": 41,
   "id": "fbb228d0-4423-41dc-8fba-8976d5a3b1ac",
   "metadata": {},
   "outputs": [
    {
     "name": "stdin",
     "output_type": "stream",
     "text": [
      "Enter a number:  15\n"
     ]
    },
    {
     "name": "stdout",
     "output_type": "stream",
     "text": [
      "Prime factors of 15: [3, 5]\n"
     ]
    }
   ],
   "source": [
    "# 40. Write a program that generates the prime factors of a given number using trial division.\n",
    "def prime_factors(n):\n",
    "    factors = []\n",
    "    d = 2\n",
    "    while n > 1:\n",
    "        while n % d == 0:\n",
    "            factors.append(d)\n",
    "            n //= d\n",
    "        d += 1\n",
    "        if d * d > n:\n",
    "            if n > 1:\n",
    "                factors.append(n)\n",
    "            break\n",
    "    return factors\n",
    "\n",
    "num = int(input(\"Enter a number: \"))\n",
    "print(f\"Prime factors of {num}: {prime_factors(num)}\") "
   ]
  }
 ],
 "metadata": {
  "kernelspec": {
   "display_name": "Python 3 (ipykernel)",
   "language": "python",
   "name": "python3"
  },
  "language_info": {
   "codemirror_mode": {
    "name": "ipython",
    "version": 3
   },
   "file_extension": ".py",
   "mimetype": "text/x-python",
   "name": "python",
   "nbconvert_exporter": "python",
   "pygments_lexer": "ipython3",
   "version": "3.10.8"
  }
 },
 "nbformat": 4,
 "nbformat_minor": 5
}
